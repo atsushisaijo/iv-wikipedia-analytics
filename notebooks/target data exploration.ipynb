{
 "cells": [
  {
   "metadata": {},
   "cell_type": "code",
   "outputs": [],
   "execution_count": null,
   "source": [
    "# Initial exploroation over API call to Wikipedia\n",
    "''' \n",
    "    .venv should contain ipykernel\n",
    "    .venv\\Scripts\\activate.bat  # Activate your .venv\n",
    "    pip install ipykernel\n",
    "    \n",
    "    once .venv setup is complete, setup kernel locally\n",
    "    python -m ipykernel install --user --name=.venv --display-name=\"Python 3.13 (.venv)\"\n",
    "'''"
   ],
   "id": "486e2427bc48167a"
  },
  {
   "metadata": {
    "ExecuteTime": {
     "end_time": "2024-11-22T15:22:59.455089Z",
     "start_time": "2024-11-22T15:22:58.907519Z"
    }
   },
   "cell_type": "code",
   "source": [
    "import requests\n",
    "import duckdb\n",
    "import pandas as pd\n",
    "from datetime import datetime\n",
    "import os\n",
    "import logging\n",
    "from typing import Dict, List"
   ],
   "id": "942fd6345f80240e",
   "outputs": [],
   "execution_count": 1
  },
  {
   "metadata": {
    "ExecuteTime": {
     "end_time": "2024-11-22T15:32:36.179855Z",
     "start_time": "2024-11-22T15:32:35.994358Z"
    }
   },
   "cell_type": "code",
   "source": [
    "# check api call \n",
    "url = \"https://en.wikipedia.org/w/api.php\"\n",
    "\n",
    "params = {\n",
    "    \"action\": \"query\",\n",
    "    \"format\": \"json\",\n",
    "    \"list\": \"featured\",\n",
    "    \"limit\": 50  # adjustable\n",
    "}\n",
    "\n",
    "response = requests.get(url, params=params)\n",
    "response.raise_for_status()\n",
    "\n",
    "# print(response)  # got 200\n",
    "\n",
    "# test_result = response.json()[\"query\"][\"featured\"]"
   ],
   "id": "db6ba9ab2c6a467e",
   "outputs": [
    {
     "name": "stdout",
     "output_type": "stream",
     "text": [
      "<Response [200]>\n"
     ]
    }
   ],
   "execution_count": 4
  },
  {
   "metadata": {},
   "cell_type": "code",
   "outputs": [],
   "execution_count": null,
   "source": [
    "response = requests.get(url, params=params)\n",
    "response.raise_for_status()"
   ],
   "id": "be1099001e5f551b"
  },
  {
   "metadata": {},
   "cell_type": "code",
   "outputs": [],
   "execution_count": null,
   "source": "response.json()[\"query\"][\"featured\"]",
   "id": "d66702d5e480e23b"
  },
  {
   "metadata": {},
   "cell_type": "code",
   "outputs": [],
   "execution_count": null,
   "source": "",
   "id": "197372de55006ca8"
  },
  {
   "metadata": {},
   "cell_type": "code",
   "outputs": [],
   "execution_count": null,
   "source": "",
   "id": "38fc6ac26039814a"
  },
  {
   "metadata": {},
   "cell_type": "code",
   "outputs": [],
   "execution_count": null,
   "source": "",
   "id": "f7ce49a30f38d5af"
  },
  {
   "metadata": {},
   "cell_type": "code",
   "outputs": [],
   "execution_count": null,
   "source": "",
   "id": "a1f9bed081f03e5d"
  },
  {
   "metadata": {},
   "cell_type": "code",
   "outputs": [],
   "execution_count": null,
   "source": "",
   "id": "a38dd322ea82e19d"
  },
  {
   "metadata": {},
   "cell_type": "code",
   "outputs": [],
   "execution_count": null,
   "source": "",
   "id": "9ccb5e0818b86481"
  },
  {
   "metadata": {},
   "cell_type": "code",
   "outputs": [],
   "execution_count": null,
   "source": [
    "# Set up logging\n",
    "logging.basicConfig(\n",
    "    level=logging.INFO,\n",
    "    format='%(asctime)s - %(levelname)s - %(message)s'\n",
    ")\n",
    "logger = logging.getLogger(__name__)\n",
    "\n",
    "class WikipediaETL:\n",
    "    def __init__(self, db_path: str = 'wikipedia.duckdb'):\n",
    "        \"\"\"Initialize the ETL pipeline with database connection.\"\"\"\n",
    "        self.db_path = db_path\n",
    "        self.conn = duckdb.connect(db_path)\n",
    "        self.setup_database()\n",
    "    \n",
    "    def setup_database(self):\n",
    "        \"\"\"Create the necessary tables if they don't exist.\"\"\"\n",
    "        self.conn.execute(\"\"\"\n",
    "            CREATE TABLE IF NOT EXISTS articles (\n",
    "                page_id INTEGER PRIMARY KEY,\n",
    "                title VARCHAR,\n",
    "                url VARCHAR,\n",
    "                extract TEXT,\n",
    "                categories TEXT[],\n",
    "                last_updated TIMESTAMP,\n",
    "                word_count INTEGER\n",
    "            )\n",
    "        \"\"\")\n",
    "        \n",
    "    def get_featured_articles(self) -> List[Dict]:\n",
    "        \"\"\"Fetch featured articles from Wikipedia API.\"\"\"\n",
    "        url = \"https://en.wikipedia.org/w/api.php\"\n",
    "        \n",
    "        params = {\n",
    "            \"action\": \"query\",\n",
    "            \"format\": \"json\",\n",
    "            \"list\": \"featured\",\n",
    "            \"limit\": 50  # Adjust as needed\n",
    "        }\n",
    "        \n",
    "        response = requests.get(url, params=params)\n",
    "        response.raise_for_status()\n",
    "        \n",
    "        return response.json()[\"query\"][\"featured\"]\n",
    "    \n",
    "    def get_article_details(self, title: str) -> Dict:\n",
    "        \"\"\"Fetch detailed information about an article.\"\"\"\n",
    "        url = \"https://en.wikipedia.org/w/api.php\"\n",
    "        \n",
    "        params = {\n",
    "            \"action\": \"query\",\n",
    "            \"format\": \"json\",\n",
    "            \"titles\": title,\n",
    "            \"prop\": \"extracts|categories|info\",\n",
    "            \"exintro\": True,\n",
    "            \"explaintext\": True,\n",
    "            \"inprop\": \"url\",\n",
    "            \"cllimit\": \"50\"\n",
    "        }\n",
    "        \n",
    "        response = requests.get(url, params=params)\n",
    "        response.raise_for_status()\n",
    "        \n",
    "        page = list(response.json()[\"query\"][\"pages\"].values())[0]\n",
    "        \n",
    "        # Extract categories\n",
    "        categories = [cat[\"title\"].replace(\"Category:\", \"\") \n",
    "                     for cat in page.get(\"categories\", [])]\n",
    "        \n",
    "        return {\n",
    "            \"page_id\": page[\"pageid\"],\n",
    "            \"title\": page[\"title\"],\n",
    "            \"url\": page[\"fullurl\"],\n",
    "            \"extract\": page.get(\"extract\", \"\"),\n",
    "            \"categories\": categories,\n",
    "            \"last_updated\": datetime.now(),\n",
    "            \"word_count\": len(page.get(\"extract\", \"\").split())\n",
    "        }\n",
    "    \n",
    "    def extract_and_load(self):\n",
    "        \"\"\"Main ETL process.\"\"\"\n",
    "        try:\n",
    "            # Get featured articles\n",
    "            logger.info(\"Fetching featured articles...\")\n",
    "            featured_articles = self.get_featured_articles()\n",
    "            \n",
    "            # Get details for each article\n",
    "            articles_data = []\n",
    "            for article in featured_articles:\n",
    "                logger.info(f\"Processing article: {article['title']}\")\n",
    "                article_details = self.get_article_details(article[\"title\"])\n",
    "                articles_data.append(article_details)\n",
    "            \n",
    "            # Convert to DataFrame\n",
    "            df = pd.DataFrame(articles_data)\n",
    "            \n",
    "            # Load into DuckDB\n",
    "            logger.info(\"Loading data into DuckDB...\")\n",
    "            self.conn.execute(\"\"\"\n",
    "                INSERT INTO articles \n",
    "                SELECT * FROM df\n",
    "                ON CONFLICT (page_id) DO UPDATE SET\n",
    "                    extract = EXCLUDED.extract,\n",
    "                    categories = EXCLUDED.categories,\n",
    "                    last_updated = EXCLUDED.last_updated,\n",
    "                    word_count = EXCLUDED.word_count\n",
    "            \"\"\")\n",
    "            \n",
    "            logger.info(\"ETL process completed successfully!\")\n",
    "            \n",
    "        except Exception as e:\n",
    "            logger.error(f\"Error during ETL process: {str(e)}\")\n",
    "            raise\n",
    "    \n",
    "    def close(self):\n",
    "        \"\"\"Close the database connection.\"\"\"\n",
    "        self.conn.close()\n",
    "\n",
    "if __name__ == \"__main__\":\n",
    "    etl = WikipediaETL()\n",
    "    etl.extract_and_load()\n",
    "    etl.close()"
   ],
   "id": "a8125853fc40d29f"
  },
  {
   "metadata": {},
   "cell_type": "code",
   "outputs": [],
   "execution_count": null,
   "source": "",
   "id": "ba42c86f47b6ef67"
  },
  {
   "metadata": {},
   "cell_type": "code",
   "outputs": [],
   "execution_count": null,
   "source": "",
   "id": "261fd8933f249f30"
  },
  {
   "metadata": {},
   "cell_type": "code",
   "outputs": [],
   "execution_count": null,
   "source": "",
   "id": "7d9ddac57cdd799e"
  },
  {
   "metadata": {},
   "cell_type": "code",
   "outputs": [],
   "execution_count": null,
   "source": "",
   "id": "197f631510def8db"
  },
  {
   "metadata": {},
   "cell_type": "code",
   "outputs": [],
   "execution_count": null,
   "source": "",
   "id": "b829889fb4d471db"
  },
  {
   "metadata": {},
   "cell_type": "code",
   "outputs": [],
   "execution_count": null,
   "source": "",
   "id": "e22a0d0903b3f0d7"
  },
  {
   "metadata": {},
   "cell_type": "code",
   "outputs": [],
   "execution_count": null,
   "source": "",
   "id": "f6f38cba939dd171"
  }
 ],
 "metadata": {
  "kernelspec": {
   "display_name": "Python 3.13 (.venv)",
   "language": "python",
   "name": ".venv"
  },
  "language_info": {
   "codemirror_mode": {
    "name": "ipython",
    "version": 2
   },
   "file_extension": ".py",
   "mimetype": "text/x-python",
   "name": "python",
   "nbconvert_exporter": "python",
   "pygments_lexer": "ipython2",
   "version": "2.7.6"
  }
 },
 "nbformat": 4,
 "nbformat_minor": 5
}
